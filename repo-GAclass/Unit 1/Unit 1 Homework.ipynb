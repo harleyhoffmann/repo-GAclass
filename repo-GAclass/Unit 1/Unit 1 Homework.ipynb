{
 "cells": [
  {
   "cell_type": "code",
   "execution_count": 1,
   "metadata": {},
   "outputs": [],
   "source": [
    "x = 'password'"
   ]
  },
  {
   "cell_type": "code",
   "execution_count": 6,
   "metadata": {},
   "outputs": [
    {
     "name": "stdout",
     "output_type": "stream",
     "text": [
      "correct\n"
     ]
    }
   ],
   "source": [
    "if x.isalnum() == True:\n",
    "    if x.isalpha() == True:\n",
    "        if x.isdigit() == True:\n",
    "            print(\"incorrect - contains all numbers\")\n",
    "        else:\n",
    "            print(\"correct\")\n",
    "    else:\n",
    "        print(\"incorrect - no numbers\")\n",
    "else:\n",
    "    print(\"incorrect - special characters\")"
   ]
  },
  {
   "cell_type": "code",
   "execution_count": 9,
   "metadata": {},
   "outputs": [
    {
     "name": "stdout",
     "output_type": "stream",
     "text": [
      "fizzbuzz\n"
     ]
    }
   ],
   "source": [
    "number = 15\n",
    "\n",
    "if number % 3 == 0 and number % 5 == 0:\n",
    "    print(\"fizzbuzz\")\n",
    "elif number % 3 == 0:\n",
    "    print(\"fizz\")\n",
    "elif number % 5 == 0:\n",
    "    print(\"buzz\")\n",
    "else:\n",
    "    print(number)"
   ]
  },
  {
   "cell_type": "code",
   "execution_count": 14,
   "metadata": {},
   "outputs": [
    {
     "name": "stdout",
     "output_type": "stream",
     "text": [
      "Are you even on Earth rn?\n"
     ]
    }
   ],
   "source": [
    "temperature = 60\n",
    "weather = 'cold'\n",
    "\n",
    "if temperature > 60 and weather == 'raining':\n",
    "    print(\"Bring an umbrella\")\n",
    "elif temperature <= 60 and weather == 'raining':\n",
    "    print(\"Bring an umbrella and a jacket\")\n",
    "elif temperature > 60 and weather == 'sunshine':\n",
    "    print(\"Wear a T-shirt\")\n",
    "elif temperature <= 60 and weather == 'sunshine':\n",
    "    print(\"Bring jacket\")\n",
    "else:\n",
    "    print(\"Are you even on Earth rn?\")"
   ]
  },
  {
   "cell_type": "code",
   "execution_count": null,
   "metadata": {},
   "outputs": [],
   "source": []
  }
 ],
 "metadata": {
  "kernelspec": {
   "display_name": "Python 3",
   "language": "python",
   "name": "python3"
  },
  "language_info": {
   "codemirror_mode": {
    "name": "ipython",
    "version": 3
   },
   "file_extension": ".py",
   "mimetype": "text/x-python",
   "name": "python",
   "nbconvert_exporter": "python",
   "pygments_lexer": "ipython3",
   "version": "3.8.5"
  }
 },
 "nbformat": 4,
 "nbformat_minor": 4
}
