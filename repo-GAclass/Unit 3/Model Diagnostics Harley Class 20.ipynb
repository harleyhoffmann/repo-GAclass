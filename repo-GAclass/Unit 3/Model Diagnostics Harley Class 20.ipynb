{
 "cells": [
  {
   "cell_type": "code",
   "execution_count": 4,
   "metadata": {},
   "outputs": [],
   "source": [
    "import pandas as pd\n",
    "from xgboost import XGBRegressor\n",
    "from category_encoders import OrdinalEncoder"
   ]
  },
  {
   "cell_type": "code",
   "execution_count": 2,
   "metadata": {},
   "outputs": [],
   "source": [
    "df = pd.read_csv('/Users/harleyhoffmann/dat-02-22/ClassMaterial/Unit3/data/bikeshare.csv')"
   ]
  },
  {
   "cell_type": "code",
   "execution_count": 6,
   "metadata": {},
   "outputs": [],
   "source": [
    "df.sort_values(by='datetime', inplace=True)"
   ]
  },
  {
   "cell_type": "code",
   "execution_count": 7,
   "metadata": {},
   "outputs": [
    {
     "data": {
      "text/html": [
       "<div>\n",
       "<style scoped>\n",
       "    .dataframe tbody tr th:only-of-type {\n",
       "        vertical-align: middle;\n",
       "    }\n",
       "\n",
       "    .dataframe tbody tr th {\n",
       "        vertical-align: top;\n",
       "    }\n",
       "\n",
       "    .dataframe thead th {\n",
       "        text-align: right;\n",
       "    }\n",
       "</style>\n",
       "<table border=\"1\" class=\"dataframe\">\n",
       "  <thead>\n",
       "    <tr style=\"text-align: right;\">\n",
       "      <th></th>\n",
       "      <th>datetime</th>\n",
       "      <th>season</th>\n",
       "      <th>holiday</th>\n",
       "      <th>workingday</th>\n",
       "      <th>weather</th>\n",
       "      <th>temp</th>\n",
       "      <th>atemp</th>\n",
       "      <th>humidity</th>\n",
       "      <th>windspeed</th>\n",
       "      <th>count</th>\n",
       "    </tr>\n",
       "  </thead>\n",
       "  <tbody>\n",
       "    <tr>\n",
       "      <th>0</th>\n",
       "      <td>2011-01-01 00:00:00</td>\n",
       "      <td>Spring</td>\n",
       "      <td>0</td>\n",
       "      <td>0</td>\n",
       "      <td>Clear Skies</td>\n",
       "      <td>9.84</td>\n",
       "      <td>14.395</td>\n",
       "      <td>81</td>\n",
       "      <td>0.0</td>\n",
       "      <td>16</td>\n",
       "    </tr>\n",
       "    <tr>\n",
       "      <th>1</th>\n",
       "      <td>2011-01-01 01:00:00</td>\n",
       "      <td>Spring</td>\n",
       "      <td>0</td>\n",
       "      <td>0</td>\n",
       "      <td>Clear Skies</td>\n",
       "      <td>9.02</td>\n",
       "      <td>13.635</td>\n",
       "      <td>80</td>\n",
       "      <td>0.0</td>\n",
       "      <td>40</td>\n",
       "    </tr>\n",
       "    <tr>\n",
       "      <th>2</th>\n",
       "      <td>2011-01-01 02:00:00</td>\n",
       "      <td>Spring</td>\n",
       "      <td>0</td>\n",
       "      <td>0</td>\n",
       "      <td>Clear Skies</td>\n",
       "      <td>9.02</td>\n",
       "      <td>13.635</td>\n",
       "      <td>80</td>\n",
       "      <td>0.0</td>\n",
       "      <td>32</td>\n",
       "    </tr>\n",
       "    <tr>\n",
       "      <th>3</th>\n",
       "      <td>2011-01-01 03:00:00</td>\n",
       "      <td>Spring</td>\n",
       "      <td>0</td>\n",
       "      <td>0</td>\n",
       "      <td>Clear Skies</td>\n",
       "      <td>9.84</td>\n",
       "      <td>14.395</td>\n",
       "      <td>75</td>\n",
       "      <td>0.0</td>\n",
       "      <td>13</td>\n",
       "    </tr>\n",
       "    <tr>\n",
       "      <th>4</th>\n",
       "      <td>2011-01-01 04:00:00</td>\n",
       "      <td>Spring</td>\n",
       "      <td>0</td>\n",
       "      <td>0</td>\n",
       "      <td>Clear Skies</td>\n",
       "      <td>9.84</td>\n",
       "      <td>14.395</td>\n",
       "      <td>75</td>\n",
       "      <td>0.0</td>\n",
       "      <td>1</td>\n",
       "    </tr>\n",
       "  </tbody>\n",
       "</table>\n",
       "</div>"
      ],
      "text/plain": [
       "              datetime  season  holiday  workingday      weather  temp  \\\n",
       "0  2011-01-01 00:00:00  Spring        0           0  Clear Skies  9.84   \n",
       "1  2011-01-01 01:00:00  Spring        0           0  Clear Skies  9.02   \n",
       "2  2011-01-01 02:00:00  Spring        0           0  Clear Skies  9.02   \n",
       "3  2011-01-01 03:00:00  Spring        0           0  Clear Skies  9.84   \n",
       "4  2011-01-01 04:00:00  Spring        0           0  Clear Skies  9.84   \n",
       "\n",
       "    atemp  humidity  windspeed  count  \n",
       "0  14.395        81        0.0     16  \n",
       "1  13.635        80        0.0     40  \n",
       "2  13.635        80        0.0     32  \n",
       "3  14.395        75        0.0     13  \n",
       "4  14.395        75        0.0      1  "
      ]
     },
     "execution_count": 7,
     "metadata": {},
     "output_type": "execute_result"
    }
   ],
   "source": [
    "df.head()"
   ]
  },
  {
   "cell_type": "code",
   "execution_count": 8,
   "metadata": {},
   "outputs": [],
   "source": [
    "X = df[['holiday','workingday','weather','temp','atemp','humidity']]\n",
    "y = df['count']"
   ]
  },
  {
   "cell_type": "code",
   "execution_count": 9,
   "metadata": {},
   "outputs": [],
   "source": [
    "encoder = OrdinalEncoder()"
   ]
  },
  {
   "cell_type": "code",
   "execution_count": 10,
   "metadata": {},
   "outputs": [],
   "source": [
    "X_train, X_test, X_val = X.iloc[:6000].copy(), X.iloc[:8000].copy(), X.iloc[6000:8000].copy()\n",
    "y_train, y_test, y_val = y.iloc[:6000].copy(), y.iloc[:8000].copy(), y.iloc[6000:8000].copy()"
   ]
  },
  {
   "cell_type": "code",
   "execution_count": 11,
   "metadata": {},
   "outputs": [],
   "source": [
    "X_train = encoder.fit_transform(X_train)\n",
    "X_val = encoder.transform(X_val)"
   ]
  },
  {
   "cell_type": "code",
   "execution_count": 18,
   "metadata": {},
   "outputs": [],
   "source": [
    "mod = XGBRegressor(n_estimators=23, learning_rate=0.1, max_depth=6)"
   ]
  },
  {
   "cell_type": "code",
   "execution_count": 19,
   "metadata": {},
   "outputs": [
    {
     "data": {
      "text/plain": [
       "XGBRegressor(base_score=0.5, booster='gbtree', colsample_bylevel=1,\n",
       "             colsample_bynode=1, colsample_bytree=1, gamma=0, gpu_id=-1,\n",
       "             importance_type='gain', interaction_constraints='',\n",
       "             learning_rate=0.1, max_delta_step=0, max_depth=6,\n",
       "             min_child_weight=1, missing=nan, monotone_constraints='()',\n",
       "             n_estimators=23, n_jobs=4, num_parallel_tree=1, random_state=0,\n",
       "             reg_alpha=0, reg_lambda=1, scale_pos_weight=1, subsample=1,\n",
       "             tree_method='exact', validate_parameters=1, verbosity=None)"
      ]
     },
     "execution_count": 19,
     "metadata": {},
     "output_type": "execute_result"
    }
   ],
   "source": [
    "mod.fit(X_train, y_train)"
   ]
  },
  {
   "cell_type": "code",
   "execution_count": 20,
   "metadata": {},
   "outputs": [
    {
     "name": "stderr",
     "output_type": "stream",
     "text": [
      "/Users/harleyhoffmann/opt/anaconda3/lib/python3.8/site-packages/xgboost/data.py:112: UserWarning: Use subset (sliced data) of np.ndarray is not recommended because it will generate extra copies and increase memory consumption\n",
      "  warnings.warn(\n"
     ]
    },
    {
     "data": {
      "text/plain": [
       "0.3758946266704444"
      ]
     },
     "execution_count": 20,
     "metadata": {},
     "output_type": "execute_result"
    }
   ],
   "source": [
    "mod.score(X_train, y_train)"
   ]
  },
  {
   "cell_type": "code",
   "execution_count": 21,
   "metadata": {},
   "outputs": [
    {
     "name": "stderr",
     "output_type": "stream",
     "text": [
      "/Users/harleyhoffmann/opt/anaconda3/lib/python3.8/site-packages/xgboost/data.py:112: UserWarning: Use subset (sliced data) of np.ndarray is not recommended because it will generate extra copies and increase memory consumption\n",
      "  warnings.warn(\n"
     ]
    },
    {
     "data": {
      "text/plain": [
       "0.06244703562468645"
      ]
     },
     "execution_count": 21,
     "metadata": {},
     "output_type": "execute_result"
    }
   ],
   "source": [
    "mod.score(X_val, y_val)"
   ]
  },
  {
   "cell_type": "code",
   "execution_count": 17,
   "metadata": {},
   "outputs": [
    {
     "name": "stdout",
     "output_type": "stream",
     "text": [
      "[0]\tvalidation_0-rmse:294.98636\n",
      "[1]\tvalidation_0-rmse:281.89310\n",
      "[2]\tvalidation_0-rmse:270.88025\n",
      "[3]\tvalidation_0-rmse:261.18698\n",
      "[4]\tvalidation_0-rmse:252.41600\n",
      "[5]\tvalidation_0-rmse:244.98726\n",
      "[6]\tvalidation_0-rmse:238.21097\n",
      "[7]\tvalidation_0-rmse:232.49618\n",
      "[8]\tvalidation_0-rmse:227.29463\n",
      "[9]\tvalidation_0-rmse:222.83678\n",
      "[10]\tvalidation_0-rmse:219.05409\n",
      "[11]\tvalidation_0-rmse:215.85484\n",
      "[12]\tvalidation_0-rmse:212.97527\n",
      "[13]\tvalidation_0-rmse:210.59770\n",
      "[14]\tvalidation_0-rmse:208.45508\n",
      "[15]\tvalidation_0-rmse:206.59543\n",
      "[16]\tvalidation_0-rmse:205.09546\n",
      "[17]\tvalidation_0-rmse:203.49638\n",
      "[18]\tvalidation_0-rmse:202.03122\n",
      "[19]\tvalidation_0-rmse:200.90324\n",
      "[20]\tvalidation_0-rmse:199.58136\n",
      "[21]\tvalidation_0-rmse:198.73404\n",
      "[22]\tvalidation_0-rmse:197.76209\n",
      "[23]\tvalidation_0-rmse:196.91660\n",
      "[24]\tvalidation_0-rmse:196.29953\n",
      "[25]\tvalidation_0-rmse:195.76808\n",
      "[26]\tvalidation_0-rmse:195.24124\n",
      "[27]\tvalidation_0-rmse:194.85440\n",
      "[28]\tvalidation_0-rmse:194.37477\n",
      "[29]\tvalidation_0-rmse:194.00137\n",
      "[30]\tvalidation_0-rmse:193.68312\n",
      "[31]\tvalidation_0-rmse:193.34229\n",
      "[32]\tvalidation_0-rmse:193.03407\n",
      "[33]\tvalidation_0-rmse:192.72424\n",
      "[34]\tvalidation_0-rmse:192.59509\n",
      "[35]\tvalidation_0-rmse:192.52022\n",
      "[36]\tvalidation_0-rmse:192.32681\n",
      "[37]\tvalidation_0-rmse:192.27318\n",
      "[38]\tvalidation_0-rmse:192.14505\n",
      "[39]\tvalidation_0-rmse:192.04535\n",
      "[40]\tvalidation_0-rmse:191.95325\n",
      "[41]\tvalidation_0-rmse:191.90424\n",
      "[42]\tvalidation_0-rmse:191.81705\n",
      "[43]\tvalidation_0-rmse:191.72955\n",
      "[44]\tvalidation_0-rmse:191.68227\n",
      "[45]\tvalidation_0-rmse:191.58040\n",
      "[46]\tvalidation_0-rmse:191.52267\n",
      "[47]\tvalidation_0-rmse:191.46347\n",
      "[48]\tvalidation_0-rmse:191.40334\n",
      "[49]\tvalidation_0-rmse:191.38271\n",
      "[50]\tvalidation_0-rmse:191.35996\n",
      "[51]\tvalidation_0-rmse:191.32928\n",
      "[52]\tvalidation_0-rmse:191.27292\n",
      "[53]\tvalidation_0-rmse:191.22571\n",
      "[54]\tvalidation_0-rmse:191.19453\n",
      "[55]\tvalidation_0-rmse:191.16312\n",
      "[56]\tvalidation_0-rmse:191.13219\n",
      "[57]\tvalidation_0-rmse:191.13254\n",
      "[58]\tvalidation_0-rmse:191.13667\n",
      "[59]\tvalidation_0-rmse:191.11214\n",
      "[60]\tvalidation_0-rmse:191.09935\n",
      "[61]\tvalidation_0-rmse:191.10806\n",
      "[62]\tvalidation_0-rmse:191.09700\n",
      "[63]\tvalidation_0-rmse:191.09109\n",
      "[64]\tvalidation_0-rmse:191.07582\n",
      "[65]\tvalidation_0-rmse:191.06509\n",
      "[66]\tvalidation_0-rmse:191.05789\n",
      "[67]\tvalidation_0-rmse:191.06532\n",
      "[68]\tvalidation_0-rmse:191.06288\n",
      "[69]\tvalidation_0-rmse:191.03500\n",
      "[70]\tvalidation_0-rmse:191.05341\n",
      "[71]\tvalidation_0-rmse:191.06758\n",
      "[72]\tvalidation_0-rmse:191.06189\n",
      "[73]\tvalidation_0-rmse:191.04729\n",
      "[74]\tvalidation_0-rmse:191.05611\n"
     ]
    },
    {
     "data": {
      "text/plain": [
       "XGBRegressor(base_score=0.5, booster='gbtree', colsample_bylevel=1,\n",
       "             colsample_bynode=1, colsample_bytree=1, gamma=0, gpu_id=-1,\n",
       "             importance_type='gain', interaction_constraints='',\n",
       "             learning_rate=0.1, max_delta_step=0, max_depth=6,\n",
       "             min_child_weight=1, missing=nan, monotone_constraints='()',\n",
       "             n_estimators=500, n_jobs=4, num_parallel_tree=1, random_state=0,\n",
       "             reg_alpha=0, reg_lambda=1, scale_pos_weight=1, subsample=1,\n",
       "             tree_method='exact', validate_parameters=1, verbosity=None)"
      ]
     },
     "execution_count": 17,
     "metadata": {},
     "output_type": "execute_result"
    }
   ],
   "source": [
    "mod.fit(X_train, y_train, eval_set=[(X_val, y_val)], early_stopping_rounds=5)"
   ]
  },
  {
   "cell_type": "code",
   "execution_count": 22,
   "metadata": {},
   "outputs": [
    {
     "data": {
      "text/plain": [
       "XGBRegressor(base_score=0.5, booster='gbtree', colsample_bylevel=1,\n",
       "             colsample_bynode=1, colsample_bytree=1, gamma=0, gpu_id=-1,\n",
       "             importance_type='gain', interaction_constraints='',\n",
       "             learning_rate=0.1, max_delta_step=0, max_depth=6,\n",
       "             min_child_weight=1, missing=nan, monotone_constraints='()',\n",
       "             n_estimators=23, n_jobs=4, num_parallel_tree=1, random_state=0,\n",
       "             reg_alpha=0, reg_lambda=1, scale_pos_weight=1, subsample=1,\n",
       "             tree_method='exact', validate_parameters=1, verbosity=None)"
      ]
     },
     "execution_count": 22,
     "metadata": {},
     "output_type": "execute_result"
    }
   ],
   "source": [
    "mod"
   ]
  },
  {
   "cell_type": "code",
   "execution_count": null,
   "metadata": {},
   "outputs": [],
   "source": []
  }
 ],
 "metadata": {
  "kernelspec": {
   "display_name": "Python 3",
   "language": "python",
   "name": "python3"
  },
  "language_info": {
   "codemirror_mode": {
    "name": "ipython",
    "version": 3
   },
   "file_extension": ".py",
   "mimetype": "text/x-python",
   "name": "python",
   "nbconvert_exporter": "python",
   "pygments_lexer": "ipython3",
   "version": "3.8.5"
  }
 },
 "nbformat": 4,
 "nbformat_minor": 4
}
